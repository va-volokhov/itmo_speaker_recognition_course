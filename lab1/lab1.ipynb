{
 "cells": [
  {
   "cell_type": "markdown",
   "metadata": {
    "collapsed": true
   },
   "source": [
    "### Лабораторная работа №1. Информативные признаки речевых сигналов: извлечение признаков\n",
    "**Описание**:\n",
    "В рамках данной лабораторной работы вам предстоит познакомиться с процедурами предобработки речевых сигналов и извлечения информативных признаков. В данной работе вам предлагается научиться извлекать\n",
    "\n",
    "- Mel Filter Banks - кратковременные энергии мелчастотных полос\n",
    "- Mel Frequency Cepstral Coeffitients - Мел частотные кепстральные коэффициенты\n",
    "\n",
    "Признаки должны совпадать с соответствующими признаками, которые извлекаются в **torchaudio** (https://pytorch.org/audio/stable/transforms.html)\n",
    "\n",
    "**Данные**:\n",
    "В качестве данных для проведения исследования предлагается взять базу VoxCeleb1: http://www.robots.ox.ac.uk/~vgg/data/voxceleb/vox1.html.\n",
    "\n",
    "**Задания**:\n",
    "1. Сделать preemphasis (фильтрация верхних частот). Проанализировать амлитудно-частотные спектры исходного и обработанного речевых участков сигналов\n",
    "2. Вычислить акустические признаки разных видов: FBs40 и MFCCs23.\n",
    "3. Выполнить локальное центрирование и масштабирование признаков (нормализация MVN).\n",
    "4. Построить распределение первых 3 компонент полученных признаков по всей базе отдельно по гендерам"
   ]
  },
  {
   "cell_type": "markdown",
   "metadata": {},
   "source": [
    "### 1. Preemphasis preprocessing"
   ]
  },
  {
   "cell_type": "code",
   "execution_count": 2,
   "metadata": {},
   "outputs": [
    {
     "ename": "NameError",
     "evalue": "name 'waveform' is not defined",
     "traceback": [
      "\u001b[0;31m---------------------------------------------------------------------------\u001b[0m",
      "\u001b[0;31mNameError\u001b[0m                                 Traceback (most recent call last)",
      "\u001b[0;32m<ipython-input-2-306e5f3183df>\u001b[0m in \u001b[0;36m<module>\u001b[0;34m\u001b[0m\n\u001b[1;32m      1\u001b[0m \u001b[0;32mfrom\u001b[0m \u001b[0maudiofeatures\u001b[0m \u001b[0;32mimport\u001b[0m \u001b[0mAudiofeatures\u001b[0m\u001b[0;34m\u001b[0m\u001b[0m\n\u001b[0;32m----> 2\u001b[0;31m \u001b[0mprocessed_waveform\u001b[0m \u001b[0;34m=\u001b[0m \u001b[0mAudiofeatures\u001b[0m\u001b[0;34m.\u001b[0m\u001b[0mpreemphasis\u001b[0m\u001b[0;34m(\u001b[0m\u001b[0mwaveform\u001b[0m\u001b[0;34m)\u001b[0m\u001b[0;34m\u001b[0m\u001b[0m\n\u001b[0m",
      "\u001b[0;31mNameError\u001b[0m: name 'waveform' is not defined"
     ],
     "output_type": "error"
    }
   ],
   "source": [
    "from audiofeatures import Audiofeatures\n",
    "processed_waveform = Audiofeatures.preemphasis(waveform)"
   ]
  },
  {
   "cell_type": "markdown",
   "metadata": {},
   "source": [
    "### 2. Mel Filter Banks computing"
   ]
  },
  {
   "cell_type": "code",
   "execution_count": 3,
   "metadata": {},
   "outputs": [
    {
     "ename": "NotImplementedError",
     "evalue": "",
     "traceback": [
      "\u001b[0;31m---------------------------------------------------------------------------\u001b[0m",
      "\u001b[0;31mNotImplementedError\u001b[0m                       Traceback (most recent call last)",
      "\u001b[0;32m<ipython-input-3-83d0f682189d>\u001b[0m in \u001b[0;36m<module>\u001b[0;34m\u001b[0m\n\u001b[1;32m      1\u001b[0m \u001b[0mMFB40_FeaturesExctractor\u001b[0m \u001b[0;34m=\u001b[0m \u001b[0mAudiofeatures\u001b[0m\u001b[0;34m(\u001b[0m\u001b[0mfeats_type\u001b[0m\u001b[0;34m=\u001b[0m\u001b[0;34m'MFB40'\u001b[0m\u001b[0;34m)\u001b[0m\u001b[0;34m\u001b[0m\u001b[0m\n\u001b[0;32m----> 2\u001b[0;31m \u001b[0mMFB40\u001b[0m \u001b[0;34m=\u001b[0m \u001b[0mMFB40_FeaturesExctractor\u001b[0m\u001b[0;34m.\u001b[0m\u001b[0mextract\u001b[0m\u001b[0;34m(\u001b[0m\u001b[0;34m'wav_path'\u001b[0m\u001b[0;34m)\u001b[0m\u001b[0;34m\u001b[0m\u001b[0m\n\u001b[0m",
      "\u001b[0;32m/media_new/data/novoselov/ITMO_labs/itmo_speaker_recognition_course/lab1/audiofeatures.py\u001b[0m in \u001b[0;36mextract\u001b[0;34m(self, wav_path)\u001b[0m\n\u001b[1;32m     21\u001b[0m         \"\"\"\n\u001b[1;32m     22\u001b[0m \u001b[0;34m\u001b[0m\u001b[0m\n\u001b[0;32m---> 23\u001b[0;31m         \u001b[0;32mraise\u001b[0m \u001b[0mNotImplementedError\u001b[0m\u001b[0;34m\u001b[0m\u001b[0m\n\u001b[0m\u001b[1;32m     24\u001b[0m \u001b[0;34m\u001b[0m\u001b[0m\n\u001b[1;32m     25\u001b[0m \u001b[0;34m\u001b[0m\u001b[0m\n",
      "\u001b[0;31mNotImplementedError\u001b[0m: "
     ],
     "output_type": "error"
    }
   ],
   "source": [
    "MFB40_FeaturesExctractor = Audiofeatures(feats_type='MFB40')\n",
    "MFB40 = MFB40_FeaturesExctractor.extract('wav_path')"
   ]
  },
  {
   "cell_type": "markdown",
   "metadata": {},
   "source": [
    "### 3. Mel Frequency Cepstral Coeffitiens computing"
   ]
  },
  {
   "cell_type": "code",
   "execution_count": null,
   "metadata": {},
   "outputs": [],
   "source": [
    "MFCC_FeaturesExctractor = Audiofeatures(feats_type='MFCC')\n",
    "MFCC = MFCC_FeaturesExctractor.extract('wav_path')"
   ]
  }
 ],
 "metadata": {
  "kernelspec": {
   "display_name": "Python 2",
   "language": "python",
   "name": "python2"
  },
  "language_info": {
   "codemirror_mode": {
    "name": "ipython",
    "version": 3
   },
   "file_extension": ".py",
   "mimetype": "text/x-python",
   "name": "python",
   "nbconvert_exporter": "python",
   "pygments_lexer": "ipython3",
   "version": "3.6.2"
  }
 },
 "nbformat": 4,
 "nbformat_minor": 1
}
