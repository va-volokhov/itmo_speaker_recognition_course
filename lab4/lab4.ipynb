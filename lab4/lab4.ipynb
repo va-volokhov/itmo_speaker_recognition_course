{
 "cells": [
  {
   "cell_type": "markdown",
   "id": "3f4cabff",
   "metadata": {},
   "source": [
    "#### Лабораторный практикум по курсу «Распознавание диктора», Университет ИТМО, 2021\n",
    "**<center>Лабораторная работа №4. Критерии принятия решения и метрики качества</center>**\n",
    "\n",
    "**Цель работы:** изучение основных критериев принятия решения и метрик качества, рассматриваемых при решении задачи голосовой биометрии.\t\t\t\t\t\t"
   ]
  },
  {
   "cell_type": "markdown",
   "id": "72d664e0",
   "metadata": {},
   "source": [
    "**<center>Содержание лабораторной работы</center>**\n",
    "\n",
    "1. Подготовка тестовых данных и протокола для проведения тестирования системы верификации диктора.\t\t\t\t\t\t\t\n",
    "\n",
    "2. Вычисление дикторских моделей для эталонных и тестовых звукозаписей используемого протокола.\n",
    "\n",
    "3. Формирование оценок сравнения эталонных и тестовых дикторских моделей.\n",
    "\n",
    "4. Построение таргет- и импостор-гистограмм оценок сравнения моделей.\n",
    "\n",
    "5. Вычисление порогового значения, вероятности ошибки принятия решения, вероятностей ошибок первого и второго рода: критерий максимального правдоподобия, критерий максимума апостериорной вероятности (критерий минимума вероятности ошибки), критерий Неймана-Пирсона, критерий Байеса и минимаксный критерий.\n",
    "\n",
    "6. Вычисление значения равновероятной ошибки (EER, Equal Error Rate).\t\t\t\t\t\t\t"
   ]
  },
  {
   "cell_type": "code",
   "execution_count": 1,
   "id": "6a241fed",
   "metadata": {},
   "outputs": [],
   "source": [
    "# Import of modules\n",
    "from math import sqrt, pi\n",
    "\n",
    "import numpy as np\n",
    "from matplotlib.pyplot import hist, plot, show, grid, title, xlabel, ylabel, legend, axis, imshow\n",
    "import torch\n",
    "from torch.utils.data import DataLoader\n",
    "import itertools\n",
    "\n",
    "from dataprep import download_dataset, extract_dataset, download_protocol, load_model\n",
    "from ResNetSE34V2 import MainModel\n",
    "from DatasetLoader import test_dataset_loader, extract_features, compute_scores\n",
    "from perf import get_eer"
   ]
  },
  {
   "cell_type": "markdown",
   "id": "e733c6e1",
   "metadata": {},
   "source": [
    "**<center>1. Подготовка тестовых данных и протокола для проведения тестирования системы верификации диктора</center>**\n",
    "\n",
    "1. Выполнить загрузку и распаковку звуковых wav-файлов базы [VoxCeleb1 test set](https://thor.robots.ox.ac.uk/~vgg/data/voxceleb/vox1a/vox1_test_wav.zip).\n",
    "\n",
    "2. Выполнить загрузку протокола тестирования [VoxCeleb1-O cleaned](https://www.robots.ox.ac.uk/~vgg/data/voxceleb/meta/veri_test2.txt).\n",
    "\n",
    "![Рисунок 1](./images/image1.png \"VoxCeleb. Крупномасштабная аудиовизуальная база данных человеческой речи.\")"
   ]
  },
  {
   "cell_type": "code",
   "execution_count": 5,
   "id": "e8b2ec99",
   "metadata": {},
   "outputs": [],
   "source": [
    "# Download VoxCeleb1 (test set)\n",
    "with open('./lists/datasets.txt', 'r') as f:\n",
    "    lines = f.readlines()\n",
    "\n",
    "download_dataset(lines, user='voxceleb1902', password='nx0bl2v2', save_path='./')"
   ]
  },
  {
   "cell_type": "code",
   "execution_count": 3,
   "id": "3cb91462",
   "metadata": {},
   "outputs": [
    {
     "name": "stdout",
     "output_type": "stream",
     "text": [
      "Extracting of vox1_test_wav.zip is successful.\n"
     ]
    }
   ],
   "source": [
    "# Extract VoxCeleb1 test set\n",
    "extract_dataset(save_path='./voxceleb1_test', fname='vox1_test_wav.zip')"
   ]
  },
  {
   "cell_type": "code",
   "execution_count": 4,
   "id": "ebd1a7f7",
   "metadata": {},
   "outputs": [
    {
     "name": "stdout",
     "output_type": "stream",
     "text": [
      "File veri_test2.txt is downloaded.\n"
     ]
    }
   ],
   "source": [
    "# Download VoxCeleb1-O cleaned protocol\n",
    "with open('./lists/protocols.txt', 'r') as f:\n",
    "    lines = f.readlines()\n",
    "    \n",
    "download_protocol(lines, save_path='./voxceleb1_test')"
   ]
  },
  {
   "cell_type": "markdown",
   "id": "74a17756",
   "metadata": {},
   "source": [
    "**<center>2. Вычисление дикторских моделей для эталонных и тестовых звукозаписей используемого протокола</center>**\n",
    "\n",
    "1. Описать и инициализировать модель для генерации дикторских эмбеддингов.\n",
    "\n",
    "2. Вгрузить в инициализированную модель обученные веса.\n",
    "\n",
    "3. Вычислить эмбеддинги для протокольных эталонных и тестовых звукозаписей."
   ]
  },
  {
   "cell_type": "code",
   "execution_count": 2,
   "id": "885652b5",
   "metadata": {},
   "outputs": [
    {
     "name": "stdout",
     "output_type": "stream",
     "text": [
      "Embedding size is 512, encoder ASP.\n"
     ]
    }
   ],
   "source": [
    "# Model initialization\n",
    "model = MainModel()"
   ]
  },
  {
   "cell_type": "code",
   "execution_count": 3,
   "id": "630b6a82",
   "metadata": {},
   "outputs": [
    {
     "name": "stdout",
     "output_type": "stream",
     "text": [
      "File baseline_v2_ap.model is downloaded.\n"
     ]
    }
   ],
   "source": [
    "# Load trained model\n",
    "with open('./lists/models.txt', 'r') as f:\n",
    "    lines = f.readlines()\n",
    "        \n",
    "model = load_model(model, lines, save_path='./models')\n",
    "\n",
    "model = model.cuda()"
   ]
  },
  {
   "cell_type": "code",
   "execution_count": 4,
   "id": "274117cc",
   "metadata": {},
   "outputs": [],
   "source": [
    "# Load test protocol\n",
    "with open('./voxceleb1_test/veri_test2.txt', 'r') as f:\n",
    "    lines = f.readlines()\n",
    "    \n",
    "# Get a list of unique file names\n",
    "files = list(itertools.chain(*[x.strip().split()[-2:] for x in lines]))\n",
    "setfiles = list(set(files))\n",
    "setfiles.sort()\n",
    "\n",
    "# Define test data loader\n",
    "test_dataset = test_dataset_loader(setfiles, test_path='./voxceleb1_test/wav/', eval_frames=400, num_eval=10)\n",
    "test_loader  = torch.utils.data.DataLoader(test_dataset, batch_size=1, shuffle=False, num_workers=10, drop_last=False, sampler=None)\n",
    "\n",
    "# Extract features for every image\n",
    "feats = extract_features(model, test_loader)"
   ]
  },
  {
   "cell_type": "markdown",
   "id": "36e4a2f7",
   "metadata": {},
   "source": [
    "**<center>3. Формирование оценок сравнения эталонных и тестовых дикторских моделей</center>**\n",
    "\n",
    "1. Выполнить формирование оценок сравнения эталонных и дикторских модель с использованием любой подходящей метрики (евклидово расстояние, косинусное расстояние и т.п.).\n",
    "\n",
    "2. Сформировать списки оценок сравнения, таргет-/импостор-меток и имен эталон-тест в триальных сравнениях."
   ]
  },
  {
   "cell_type": "code",
   "execution_count": 5,
   "id": "40271963",
   "metadata": {},
   "outputs": [],
   "source": [
    "# Compute scores between enroll and test speaker models\n",
    "all_scores, all_labels, all_trials = compute_scores(feats, lines)"
   ]
  },
  {
   "cell_type": "markdown",
   "id": "a073e8d8",
   "metadata": {},
   "source": [
    "**<center>4. Построение таргет- и импостор-гистограмм оценок сравнения моделей</center>**\n",
    "\n",
    "1. Разделить оценки сравнения на два набор: таргет-сравнения и импостор-сравнения.\n",
    "\n",
    "2. Построить гистограммы для таргет-оценок и импостор-оценок."
   ]
  },
  {
   "cell_type": "code",
   "execution_count": 6,
   "id": "14566732",
   "metadata": {},
   "outputs": [
    {
     "data": {
      "image/png": "[encoded data removed]",
      "text/plain": [
       "<Figure size 432x288 with 1 Axes>"
      ]
     },
     "metadata": {
      "needs_background": "light"
     },
     "output_type": "display_data"
    }
   ],
   "source": [
    "# Compute target and impostor histogram\n",
    "tar_scores = []\n",
    "imp_scores = []\n",
    "for idx in range(len(all_labels)):\n",
    "    \n",
    "    if all_labels[idx] == 1:\n",
    "        tar_scores.append(all_scores[idx])\n",
    "        \n",
    "    else:\n",
    "        imp_scores.append(all_scores[idx])\n",
    "        \n",
    "tar_scores = np.array(tar_scores)\n",
    "imp_scores = np.array(imp_scores)\n",
    "\n",
    "# Plot histograms for target and impostor scores\n",
    "min_scores = np.concatenate((tar_scores, imp_scores)).min()\n",
    "max_scores = np.concatenate((tar_scores, imp_scores)).max()\n",
    "\n",
    "hist(tar_scores, int(sqrt(len(tar_scores))), histtype='step', color='green', range=(min_scores, max_scores))\n",
    "hist(imp_scores, int(sqrt(len(imp_scores))), histtype='step', color='red',   range=(min_scores, max_scores))\n",
    "xlabel('score'); ylabel('W(score|tgt), W(score|imp)'); title('VoxCeleb1-O (cleaned), histograms'); grid(); show()"
   ]
  },
  {
   "cell_type": "markdown",
   "id": "9445e4f6",
   "metadata": {},
   "source": [
    "**<center>5. Вычисление порогового значения, вероятности ошибки принятия решения, вероятностей ошибок первого и второго рода</center>**\n",
    "\n",
    "1. Вычислить логарифм отношение правдоподобия.\n",
    "\n",
    "2. Вычислить пороговое значение, верость ошибки принятия решения, вероятности ошибок первого и второга рода на основе оценок сравнения моделей с использованием критерия максимального правдоподобия и критерия максимума апостериорной вероятности (критерий минимума вероятности ошибки).\n",
    "\n",
    "3. Вычислить пороговое значение, верость ошибки принятия решения, вероятности ошибок первого и второга рода на основе оценок сравнения моделей с использованием критерия Неймана-Пирсона.\n",
    "\n",
    "4. Вычислить пороговое значение, верость ошибки принятия решения, вероятности ошибок первого и второга рода на основе оценок сравнения моделей с использованием критерия Байеса.\n",
    "\n",
    "5. Вычислить пороговое значение, верость ошибки принятия решения, вероятности ошибок первого и второга рода на основе оценок сравнения моделей с использованием минимаксного критерий."
   ]
  },
  {
   "cell_type": "code",
   "execution_count": 7,
   "id": "83576ca0",
   "metadata": {},
   "outputs": [],
   "source": [
    "# Gaussian probability density function\n",
    "gauss_pdf = lambda score, mu, sigma: 1/((abs(sigma) + 1e-10)*sqrt(2*pi))*np.exp(-(score - mu)**2/(2*(abs(sigma) + 1e-10)**2))"
   ]
  },
  {
   "cell_type": "code",
   "execution_count": 8,
   "id": "429cc966",
   "metadata": {},
   "outputs": [
    {
     "data": {
      "image/png": "[encoded data removed]",
      "text/plain": [
       "<Figure size 432x288 with 1 Axes>"
      ]
     },
     "metadata": {
      "needs_background": "light"
     },
     "output_type": "display_data"
    }
   ],
   "source": [
    "# Compute log-likelihood ratio\n",
    "tar_scores_mean = np.mean(tar_scores)\n",
    "tar_scores_std  = np.std(tar_scores)\n",
    "imp_scores_mean = np.mean(imp_scores)\n",
    "imp_scores_std  = np.std(imp_scores)\n",
    "\n",
    "all_scores           = np.array(all_scores)\n",
    "all_scores_sort_idxs = np.argsort(all_scores)\n",
    "\n",
    "all_scores_sort = []\n",
    "ground_truth    = []\n",
    "for idx in all_scores_sort_idxs:\n",
    "    all_scores_sort.append(all_scores[idx])\n",
    "    ground_truth.append(all_labels[idx])\n",
    "\n",
    "all_scores_sort = np.array(all_scores_sort)\n",
    "ground_truth    = np.array(ground_truth, dtype='bool')\n",
    "\n",
    "tar_gauss_pdf = gauss_pdf(all_scores_sort, tar_scores_mean, tar_scores_std)\n",
    "imp_gauss_pdf = gauss_pdf(all_scores_sort, imp_scores_mean, imp_scores_std)\n",
    "LLR           = np.log(tar_gauss_pdf/imp_gauss_pdf)\n",
    "\n",
    "plot(all_scores_sort, tar_gauss_pdf, color='green')\n",
    "plot(all_scores_sort, imp_gauss_pdf, color='red')\n",
    "xlabel('score'); ylabel('W(score|tgt), W(score|imp)'); title('VoxCeleb1-O (cleaned), PDFs'); grid(); show()"
   ]
  },
  {
   "cell_type": "code",
   "execution_count": 9,
   "id": "7d2f17f1",
   "metadata": {},
   "outputs": [
    {
     "name": "stdout",
     "output_type": "stream",
     "text": [
      "Threshold value:      -0.035\n",
      "False negative ratio: 0.034\n",
      "False positive ratio: 0.052\n",
      "Probability of error: 0.043\n"
     ]
    }
   ],
   "source": [
    "# Maximum-likelihood test and  maximum a posteriori (MAP) test. MAP is the same as Minimum Probability of Error Test\n",
    "P_Htar = 1/2 # probability of target hypothesis\n",
    "\n",
    "len_thr = len(all_scores_sort)\n",
    "fnr_thr = np.zeros(len_thr)\n",
    "fpr_thr = np.zeros(len_thr)\n",
    "P_err   = np.zeros(len_thr)\n",
    "\n",
    "for idx in range(len_thr):\n",
    "    solution = LLR > LLR[idx]                                      # decision\n",
    "    \n",
    "    err = (solution != ground_truth)                               # error vector\n",
    "    \n",
    "    fnr_thr[idx] = np.sum(err[ ground_truth])/len(tar_scores)      # probability of Type I  error P(Dimp|Htar), false negative ratio (FNR)\n",
    "    fpr_thr[idx] = np.sum(err[~ground_truth])/len(imp_scores)      # probability of Type II error P(Dtar|Himp), false positive ratio (FPR)\n",
    "    \n",
    "    P_err[idx]   = fnr_thr[idx]*P_Htar + fpr_thr[idx]*(1 - P_Htar) # probability of error\n",
    "\n",
    "P_err_idx = np.argmin(P_err) # argmin of error's probability\n",
    "P_err_min = fnr_thr[P_err_idx]*P_Htar + fpr_thr[P_err_idx]*(1 - P_Htar)\n",
    "\n",
    "print('Threshold value:      {0:.3f}'.format(LLR[P_err_idx]))\n",
    "print('False negative ratio: {0:.3f}'.format(fnr_thr[P_err_idx]))\n",
    "print('False positive ratio: {0:.3f}'.format(fpr_thr[P_err_idx]))\n",
    "print('Probability of error: {0:.3f}'.format(P_err_min))"
   ]
  },
  {
   "cell_type": "code",
   "execution_count": 10,
   "id": "5bd9a4ef",
   "metadata": {},
   "outputs": [
    {
     "name": "stdout",
     "output_type": "stream",
     "text": [
      "Threshold value:      3.681\n",
      "False negative ratio: 0.250\n",
      "False positive ratio: 0.006\n",
      "Probability of error: 0.128\n"
     ]
    }
   ],
   "source": [
    "# Neyman-Pearson test\n",
    "P_Htar = 1/2 # probability of target hypothesis\n",
    "fnr    = 1/4 # given probability of Type I error P(Dimp|Htar), false negative ratio (FNR)\n",
    "\n",
    "len_thr = len(all_scores_sort)\n",
    "fnr_thr = np.zeros(len_thr)\n",
    "P_err   = np.zeros(len_thr)\n",
    "\n",
    "for idx in range(len_thr):\n",
    "    solution = LLR > LLR[idx]                                # decision\n",
    "    \n",
    "    err = (solution != ground_truth)                         # error vector\n",
    "    \n",
    "    fnr_thr[idx] = np.sum(err[ground_truth])/len(tar_scores) # probability of Type I  error P(Dimp|Htar), false negative ratio (FNR)\n",
    "\n",
    "thr_idx  = np.argmin(np.abs(fnr_thr - fnr))           # search of threshold for a given FNR\n",
    "solution = LLR > LLR[thr_idx]                         # decision\n",
    "err      = (solution != ground_truth)                 # error vector\n",
    "fpr      = np.sum(err[~ground_truth])/len(imp_scores) # probability of Type II error P(Dtar|Himp), false positive ratio (FPR)                   % вероятность ошибки второго рода P(D0|H1)\n",
    "P_err    = fnr*P_Htar + fpr*(1 - P_Htar)              # probability of error\n",
    "\n",
    "print('Threshold value:      {0:.3f}'.format(LLR[thr_idx]))\n",
    "print('False negative ratio: {0:.3f}'.format(fnr))\n",
    "print('False positive ratio: {0:.3f}'.format(fpr))\n",
    "print('Probability of error: {0:.3f}'.format(P_err))"
   ]
  },
  {
   "cell_type": "code",
   "execution_count": 11,
   "id": "f4e1ebf4",
   "metadata": {},
   "outputs": [
    {
     "name": "stdout",
     "output_type": "stream",
     "text": [
      "Threshold value:      -0.035\n",
      "False negative ratio: 0.034\n",
      "False positive ratio: 0.052\n",
      "Probability of error: 0.043\n"
     ]
    }
   ],
   "source": [
    "# Bayes' test\n",
    "P_Htar = 1/2 # probability of target hypothesis\n",
    "C00    = 0   # cost of event (Dtar, Htar)\n",
    "C10    = 1   # cost of event (Dimp, Htar)\n",
    "C01    = 1   # cost of event (Dtar, Himp)\n",
    "C11    = 0   # cost of event (Dimp, Himp)\n",
    "\n",
    "len_thr = len(all_scores_sort)\n",
    "tpr     = np.zeros(len_thr)\n",
    "fnr     = np.zeros(len_thr)\n",
    "fpr     = np.zeros(len_thr)\n",
    "tnr     = np.zeros(len_thr)\n",
    "AC      = np.zeros(len_thr)\n",
    "\n",
    "for idx in range(len_thr):\n",
    "    solution = LLR > LLR[idx]                                        # decision\n",
    "    \n",
    "    ts  = (solution == ground_truth)                                 # true solution vector\n",
    "    err = (solution != ground_truth)                                 # error vector\n",
    "    \n",
    "    tpr[idx] = np.sum(ts [ ground_truth])/len(tar_scores)            # true positive ratio (TPR)\n",
    "    fnr[idx] = np.sum(err[ ground_truth])/len(tar_scores)            # probability of Type I  error P(Dimp|Htar), false negative ratio (FNR)                   % вероятность ошибки первого рода P(D1|H0)\n",
    "    fpr[idx] = np.sum(err[~ground_truth])/len(imp_scores)            # probability of Type II error P(Dtar|Himp), false positive ratio (FPR)                   % вероятность ошибки второго рода P(D0|H1)\n",
    "    tnr[idx] = np.sum(ts[ ~ground_truth])/len(imp_scores)            # true negative ratio (TNR)\n",
    "    \n",
    "    AC[idx]  = C00*tpr[idx]*P_Htar + C10*fnr[idx]*P_Htar + \\\n",
    "               C01*fpr[idx]*(1 - P_Htar) + C11*tnr[idx]*(1 - P_Htar) # Bayes' risk (average cost)\n",
    "\n",
    "AC_idx    = np.argmin(AC) # argmin of Bayes' risk\n",
    "P_err_min = fnr_thr[AC_idx]*P_Htar + fpr_thr[AC_idx]*(1 - P_Htar)\n",
    "\n",
    "print('Threshold value:      {0:.3f}'.format(LLR[AC_idx]))\n",
    "print('False negative ratio: {0:.3f}'.format(fnr_thr[AC_idx]))\n",
    "print('False positive ratio: {0:.3f}'.format(fpr_thr[AC_idx]))\n",
    "print('Probability of error: {0:.3f}'.format(P_err_min))"
   ]
  },
  {
   "cell_type": "code",
   "execution_count": 12,
   "id": "d824e41e",
   "metadata": {},
   "outputs": [
    {
     "data": {
      "image/png": "[encoded data removed]",
      "text/plain": [
       "<Figure size 432x288 with 1 Axes>"
      ]
     },
     "metadata": {
      "needs_background": "light"
     },
     "output_type": "display_data"
    },
    {
     "name": "stdout",
     "output_type": "stream",
     "text": [
      "Threshold value:        -0.035\n",
      "False negative ratio:   0.044\n",
      "False positive ratio:   0.044\n",
      "Probability of error:   0.044\n",
      "Minmax of average cost: 0.044\n",
      "Probability of Htar:    0.464\n"
     ]
    }
   ],
   "source": [
    "# Minimax test\n",
    "P_Htar_thr = np.linspace(0, 1, num=1000) # set of probabilities of target hypothesis\n",
    "C00        = 0                           # cost of event (Dtar, Htar)\n",
    "C10        = 1                           # cost of event (Dimp, Htar)\n",
    "C01        = 1                           # cost of event (Dtar, Himp)\n",
    "C11        = 0                           # cost of event (Dimp, Himp)\n",
    "\n",
    "len_thr        = len(all_scores_sort)\n",
    "len_P_Htar_thr = len(P_Htar_thr)\n",
    "tpr            = np.zeros(len_thr)\n",
    "fnr            = np.zeros(len_thr)\n",
    "fpr            = np.zeros(len_thr)\n",
    "tnr            = np.zeros(len_thr)\n",
    "AC             = np.zeros([len_thr, len_P_Htar_thr])\n",
    "\n",
    "for idx in range(len_thr):\n",
    "    solution = LLR > LLR[idx]                                        # decision\n",
    "    \n",
    "    ts  = (solution == ground_truth)                                 # true solution vector\n",
    "    err = (solution != ground_truth)                                 # error vector\n",
    "    \n",
    "    tpr[idx] = np.sum(ts [ ground_truth])/len(tar_scores)            # true positive ratio (TPR)\n",
    "    fnr[idx] = np.sum(err[ ground_truth])/len(tar_scores)            # probability of Type I  error P(Dimp|Htar), false negative ratio (FNR)                   % вероятность ошибки первого рода P(D1|H0)\n",
    "    fpr[idx] = np.sum(err[~ground_truth])/len(imp_scores)            # probability of Type II error P(Dtar|Himp), false positive ratio (FPR)                   % вероятность ошибки второго рода P(D0|H1)\n",
    "    tnr[idx] = np.sum(ts[ ~ground_truth])/len(imp_scores)            # true negative ratio (TNR)\n",
    "    \n",
    "    for idy in range(len_P_Htar_thr):\n",
    "        AC[idx, idy] = C00*tpr[idx]*P_Htar_thr[idy] + C10*fnr[idx]*P_Htar_thr[idy] + \\\n",
    "                       C01*fpr[idx]*(1 - P_Htar_thr[idy]) + C11*tnr[idx]*(1 - P_Htar_thr[idy]) # Bayes' risk (average cost)\n",
    "        \n",
    "imshow(AC[18305:19305, :], extent=[P_Htar_thr[0], P_Htar_thr[999], LLR[19305], LLR[18305]])\n",
    "xlabel('Probability of target hypothesis'); ylabel('LLR score'); title('Average cost surface (top view)');show()\n",
    "\n",
    "AC_P_Htar_max = np.zeros(len_thr)\n",
    "for idx in range(len_thr):\n",
    "    AC_P_Htar_max[idx] = np.amax(AC[idx, :])\n",
    "\n",
    "AC_min_max_idx = np.argmin(AC_P_Htar_max)\n",
    "\n",
    "AC_thr_min = np.zeros(len_P_Htar_thr)\n",
    "for idx in range(len_P_Htar_thr):\n",
    "    AC_thr_min[idx] = np.amin(AC[:, idx])\n",
    "\n",
    "AC_max_min_idx = np.argmax(AC_thr_min)\n",
    "    \n",
    "solution = LLR > LLR[AC_min_max_idx]                  # decision\n",
    "err      = (solution != ground_truth)                 # error vector\n",
    "fnr      = np.sum(err[ ground_truth])/len(tar_scores) # probability of Type I  error P(Dimp|Htar), false negative ratio (FNR)       \n",
    "fpr      = np.sum(err[~ground_truth])/len(imp_scores) # probability of Type II error P(Dtar|Himp), false positive ratio (FPR)                   % вероятность ошибки второго рода P(D0|H1)\n",
    "P_err    = fnr*P_Htar_thr[AC_max_min_idx] + \\\n",
    "           fpr*(1 - P_Htar_thr[AC_max_min_idx])       # probability of error\n",
    "\n",
    "print('Threshold value:        {0:.3f}'.format(LLR[AC_idx]))\n",
    "print('False negative ratio:   {0:.3f}'.format(fnr))\n",
    "print('False positive ratio:   {0:.3f}'.format(fpr))\n",
    "print('Probability of error:   {0:.3f}'.format(P_err))\n",
    "print('Minmax of average cost: {0:.3f}'.format(AC[AC_min_max_idx, AC_max_min_idx]))\n",
    "print('Probability of Htar:    {0:.3f}'.format(P_Htar_thr[AC_max_min_idx]))"
   ]
  },
  {
   "cell_type": "markdown",
   "id": "db962adc",
   "metadata": {},
   "source": [
    "**<center>7. Вычисление значения равновероятной ошибки</center>**\n",
    "\n",
    "Вычислить величину равновероятной ошибки для рассматриваемого протокола тестирования VoxCeleb1-O (cleaned)"
   ]
  },
  {
   "cell_type": "code",
   "execution_count": 13,
   "id": "b9dbbc3a",
   "metadata": {},
   "outputs": [
    {
     "name": "stdout",
     "output_type": "stream",
     "text": [
      "Equal Error Rate (EER): 4.376%\n"
     ]
    }
   ],
   "source": [
    "# Compute Equal Error Rate\n",
    "EER, _, _, _ = get_eer(tar_scores, imp_scores)\n",
    "\n",
    "print('Equal Error Rate (EER): {0:.3f}%'.format(EER))"
   ]
  },
  {
   "cell_type": "markdown",
   "id": "1015eb2b",
   "metadata": {},
   "source": [
    "**<center>8. Список литературы</center>**\n",
    "\n",
    "1. Hsu H.P. Schaum’s Ouline of Analog and Digital Communications. McGraw-Hill, 2003 ([ссылка](http://www.oasitech.it/upl/ese_schaum.pdf)).\n",
    "\n",
    "2. Hsu H.P. Schaum’s Ouline of Theory and Problems of Probability, Random Variables, and Random Processes. McGraw-Hill, 1997 ([ссылка](http://webpages.iust.ac.ir/matashbar/teaching/schaum_probability.pdf))."
   ]
  }
 ],
 "metadata": {
  "kernelspec": {
   "display_name": "Python 3",
   "language": "python",
   "name": "python3"
  },
  "language_info": {
   "codemirror_mode": {
    "name": "ipython",
    "version": 3
   },
   "file_extension": ".py",
   "mimetype": "text/x-python",
   "name": "python",
   "nbconvert_exporter": "python",
   "pygments_lexer": "ipython3",
   "version": "3.6.9"
  }
 },
 "nbformat": 4,
 "nbformat_minor": 5
}
